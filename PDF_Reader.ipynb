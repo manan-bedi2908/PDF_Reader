{
 "cells": [
  {
   "cell_type": "markdown",
   "metadata": {},
   "source": [
    "# PDF/Word/txt File Reader"
   ]
  },
  {
   "cell_type": "code",
   "execution_count": 7,
   "metadata": {},
   "outputs": [
    {
     "name": "stdout",
     "output_type": "stream",
     "text": [
      "\u001b[95m Items in C:\\Users\\WINDOWS 10\\Desktop\\Parent directory: \n",
      " ['Child_1', 'Child_2', 'Child_3']\n",
      "\u001b[94m Successfully changed the path to C:\\Users\\WINDOWS 10\\Desktop\\Parent\n",
      "\u001b[1m\n",
      "Enter the file in which you want to navigate: Child_3\n",
      "\u001b[92m Child_3\n"
     ]
    },
    {
     "data": {
      "text/plain": [
       "['sample.pdf']"
      ]
     },
     "execution_count": 7,
     "metadata": {},
     "output_type": "execute_result"
    }
   ],
   "source": [
    "import os\n",
    "import pandas as pd\n",
    "import numpy as np\n",
    "\n",
    "# Path of directory: Parent\n",
    "path = r'C:\\Users\\WINDOWS 10\\Desktop\\Parent'\n",
    "\n",
    "try:\n",
    "    if os.path.exists(path):\n",
    "    \n",
    "        # If directory exists, change the path\n",
    "        path = os.chdir(path)\n",
    "        path = os.getcwd()\n",
    "    \n",
    "        # Listing the items in the directory\n",
    "        print('\\033[95m', \"Items in {} directory: \\n\".format(path), os.listdir())\n",
    "    else:\n",
    "        print('\\033[93m', \"Path does not exist!\")\n",
    "\n",
    "except Exception as e:\n",
    "    print('\\033[93m', \"Exception occured: \", e)\n",
    "else:\n",
    "    print('\\033[94m', \"Successfully changed the path to\", path)\n",
    "\n",
    "# Getting the file name as an input\n",
    "try: \n",
    "    print('\\033[1m')\n",
    "    inp = input(\"Enter the file in which you want to navigate: \")\n",
    "    print('\\033[92m', inp)\n",
    "except Exception as e:\n",
    "    print('\\033[93m', \"Exception occcured: \", e)\n",
    "\n",
    "# Changing the location to the desired file\n",
    "os.chdir(inp)\n",
    "\n",
    "a = os.listdir()\n",
    "a\n",
    "\n",
    "# Creating separate lists for pdf, word and txt files\n",
    "pdf_files = []\n",
    "word_files = []\n",
    "txt_files = []\n",
    "\n",
    "for i in a:\n",
    "    if \".pdf\" in i:\n",
    "        pdf_files.append(i)\n",
    "    elif \"docx\" in i:\n",
    "        word_files.append(i)\n",
    "    elif \".txt\" in i:\n",
    "        txt_files.append(i)\n",
    "\n",
    "pdf_files"
   ]
  },
  {
   "cell_type": "code",
   "execution_count": 8,
   "metadata": {},
   "outputs": [
    {
     "data": {
      "text/plain": [
       "['wordFile3.docx']"
      ]
     },
     "execution_count": 8,
     "metadata": {},
     "output_type": "execute_result"
    }
   ],
   "source": [
    "# Listing the word files\n",
    "word_files"
   ]
  },
  {
   "cell_type": "code",
   "execution_count": 9,
   "metadata": {},
   "outputs": [
    {
     "data": {
      "text/plain": [
       "['textFile3.txt']"
      ]
     },
     "execution_count": 9,
     "metadata": {},
     "output_type": "execute_result"
    }
   ],
   "source": [
    "# Listing the txt files\n",
    "txt_files"
   ]
  },
  {
   "cell_type": "code",
   "execution_count": 10,
   "metadata": {},
   "outputs": [
    {
     "data": {
      "text/plain": [
       "['sample.pdf']"
      ]
     },
     "execution_count": 10,
     "metadata": {},
     "output_type": "execute_result"
    }
   ],
   "source": [
    "# Listing the pdf files\n",
    "pdf_files"
   ]
  },
  {
   "cell_type": "markdown",
   "metadata": {},
   "source": [
    "# Extracting Data From PDF File"
   ]
  },
  {
   "cell_type": "code",
   "execution_count": null,
   "metadata": {},
   "outputs": [],
   "source": [
    "!pip install PyPDF2"
   ]
  },
  {
   "cell_type": "code",
   "execution_count": 11,
   "metadata": {},
   "outputs": [
    {
     "name": "stdout",
     "output_type": "stream",
     "text": [
      " A Simple PDF File  This is a small demonstration .pdf file -  just for use in the Virtual Mechanics tutorials. More text. And more  text. And more text. And more text. And more text.  And more text. And more text. And more text. And more text. And more  text. And more text. Boring, zzzzz. And more text. And more text. And  more text. And more text. And more text. And more text. And more text.  And more text. And more text.  And more text. And more text. And more text. And more text. And more  text. And more text. And more text. Even more. Continued on page 2 ...\n"
     ]
    }
   ],
   "source": [
    "# Extracting data from the pdf file\n",
    "\n",
    "import PyPDF2\n",
    "try:\n",
    "    pdfFileObj = open(pdf_files[0], 'rb')\n",
    "except IOError:\n",
    "    print(\"File could not be opened!!\")\n",
    "    \n",
    "pdfReader = PyPDF2.PdfFileReader(pdfFileObj) \n",
    "pageObj = pdfReader.getPage(0) \n",
    "text = pageObj.extractText() \n",
    "\n",
    "print(pageObj.extractText()) "
   ]
  },
  {
   "cell_type": "code",
   "execution_count": 12,
   "metadata": {},
   "outputs": [
    {
     "data": {
      "text/plain": [
       "'C:\\\\Users\\\\WINDOWS 10\\\\Desktop\\\\Parent\\\\Child_3'"
      ]
     },
     "execution_count": 12,
     "metadata": {},
     "output_type": "execute_result"
    }
   ],
   "source": [
    "os.getcwd()"
   ]
  },
  {
   "cell_type": "code",
   "execution_count": 13,
   "metadata": {},
   "outputs": [
    {
     "data": {
      "text/plain": [
       "['textFile3.txt']"
      ]
     },
     "execution_count": 13,
     "metadata": {},
     "output_type": "execute_result"
    }
   ],
   "source": [
    "txt_files"
   ]
  },
  {
   "cell_type": "markdown",
   "metadata": {},
   "source": [
    "# Extracting data from txt file"
   ]
  },
  {
   "cell_type": "code",
   "execution_count": 14,
   "metadata": {},
   "outputs": [
    {
     "name": "stdout",
     "output_type": "stream",
     "text": [
      "I want to become a Data Scientist.\n",
      "\n",
      "I am a Data Science Enthusiast.\n"
     ]
    }
   ],
   "source": [
    "# Extracting data from txt file\n",
    "try: \n",
    "    f = open(txt_files[0])\n",
    "    f.read()\n",
    "except Exception as e:\n",
    "    print(\"Exception occured: \", e)\n",
    "\n",
    "f.seek(0)\n",
    "for line in f:\n",
    "    print(line)"
   ]
  },
  {
   "cell_type": "markdown",
   "metadata": {},
   "source": [
    "# Extracting Data From Word File"
   ]
  },
  {
   "cell_type": "code",
   "execution_count": null,
   "metadata": {},
   "outputs": [],
   "source": [
    "!pip install docx2txt"
   ]
  },
  {
   "cell_type": "code",
   "execution_count": 15,
   "metadata": {},
   "outputs": [
    {
     "name": "stdout",
     "output_type": "stream",
     "text": [
      "Cloud computing is the on-demand availability of computer system resources, especially data storage (cloud storage) and computing power, without direct active management by the user. The term is generally used to describe data centers available to many users over the Internet.\n"
     ]
    }
   ],
   "source": [
    "# Extracting data from the word file\n",
    "import docx2txt\n",
    "my_text = docx2txt.process(word_files[0])\n",
    "\n",
    "print(my_text)"
   ]
  },
  {
   "cell_type": "code",
   "execution_count": null,
   "metadata": {},
   "outputs": [],
   "source": []
  }
 ],
 "metadata": {
  "kernelspec": {
   "display_name": "Python 3",
   "language": "python",
   "name": "python3"
  },
  "language_info": {
   "codemirror_mode": {
    "name": "ipython",
    "version": 3
   },
   "file_extension": ".py",
   "mimetype": "text/x-python",
   "name": "python",
   "nbconvert_exporter": "python",
   "pygments_lexer": "ipython3",
   "version": "3.7.6"
  }
 },
 "nbformat": 4,
 "nbformat_minor": 4
}
